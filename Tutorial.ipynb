{
 "cells": [
  {
   "cell_type": "code",
   "execution_count": null,
   "id": "89aa78de-a121-420e-b36e-92893730dead",
   "metadata": {},
   "outputs": [],
   "source": [
    "import warnings\n",
    "warnings.simplefilter(action='ignore', category=FutureWarning)\n",
    "import sklearn\n",
    "from RiskChanges import ComputeExposure,ComputeLoss,ComputeRisk\n",
    "import pandas as pd\n",
    "import numpy as np"
   ]
  },
  {
   "cell_type": "code",
   "execution_count": null,
   "id": "9ed691ea-0949-44a8-a1c3-7ff003c23368",
   "metadata": {},
   "outputs": [],
   "source": [
    "#setup the project Directory\n",
    "con=\"/home/jovyan/private/RiskChangesCourseV2/RiskChangesDesktop/ProjectDir/\""
   ]
  },
  {
   "cell_type": "markdown",
   "id": "6fa75256-22a4-4b36-9e8f-40e12a50e308",
   "metadata": {},
   "source": [
    "# Calculate Exposure"
   ]
  },
  {
   "cell_type": "code",
   "execution_count": null,
   "id": "522e995f-2f77-40f3-bd89-995b0afe7f8a",
   "metadata": {
    "tags": []
   },
   "outputs": [],
   "source": [
    "#to calculate exposure, provide the ID of Element at Risk and Hazard that are listed in the Excel sheet\n",
    "ComputeExposure.ComputeExposure(con, earid=1, hazid=1, expid=100)"
   ]
  },
  {
   "cell_type": "code",
   "execution_count": null,
   "id": "196a8539-dea8-46b6-9453-f6b980a292f7",
   "metadata": {},
   "outputs": [],
   "source": [
    "#Example for looping\n",
    "expid=1\n",
    "for earid in range(1,21):\n",
    "    for hazid in range(1,51):\n",
    "        ComputeExposure.ComputeExposure(con, earid=earid, hazid=hazid, expid=100)\n",
    "        expid+=1"
   ]
  },
  {
   "cell_type": "code",
   "execution_count": null,
   "id": "9433cf27-9daa-45fa-b7a9-4f3f7917b93a",
   "metadata": {},
   "outputs": [],
   "source": [
    "#you can also aggregate the results with admin unit\n",
    "ComputeExposure.ComputeExposure(con, earid=1, hazid=1, expid=2,is_aggregated=True,adminunit_id=1)"
   ]
  },
  {
   "cell_type": "markdown",
   "id": "6a917243-6cf0-46e5-bf20-e13994e77282",
   "metadata": {},
   "source": [
    "# Calculate Loss"
   ]
  },
  {
   "cell_type": "code",
   "execution_count": null,
   "id": "90a85d5c-04b5-43ea-a200-9e1961e82462",
   "metadata": {
    "tags": []
   },
   "outputs": [],
   "source": [
    "ComputeLoss.ComputeLoss(con, exposureid=1, lossid=100, computecol='Cost')"
   ]
  },
  {
   "cell_type": "code",
   "execution_count": null,
   "id": "0fa3c103-e02b-4238-812c-8815e09f0381",
   "metadata": {
    "tags": []
   },
   "outputs": [],
   "source": [
    "#this too can be aggregated to admin unit\n",
    "ComputeLoss.ComputeLoss(con, exposureid=1, lossid=2, computecol='Cost',is_aggregated=True,adminunit_id=1)"
   ]
  },
  {
   "cell_type": "markdown",
   "id": "aabf42d4-7960-41f1-8f08-ecb59281e787",
   "metadata": {},
   "source": [
    "# Calculate Risk"
   ]
  },
  {
   "cell_type": "code",
   "execution_count": null,
   "id": "775bb947-c82a-4342-8d85-8ac4fc75bc6e",
   "metadata": {},
   "outputs": [],
   "source": [
    "ComputeRisk.ComputeRisk(con, lossids=[1,2,3,4,5], riskid=1)\n",
    "# where loss ids are the list of loss id for same element at risk and hazard with different return periods \n",
    "# and riskid is the id that you want to save\n",
    "ComputeRisk.ComputeRisk(con, lossids=[1,2,3,4,5], riskid=1,is_aggregated=True,adminunit_id=1)"
   ]
  },
  {
   "cell_type": "markdown",
   "id": "e8f2dad3-117c-4e30-b8f6-99f8354f15af",
   "metadata": {},
   "source": [
    "# Calculate Multi Hazard Risk"
   ]
  },
  {
   "cell_type": "code",
   "execution_count": null,
   "id": "c66b8514-3a8f-48b4-98a5-aa4633a38d31",
   "metadata": {},
   "outputs": [],
   "source": [
    "groupcombinations={'group1':{'lossid':[1,2,3],'interactions':'independent','hazards':['FF','GS'],'weights':[1,1]}\n",
    "                  'group2':{'lossid':[4,5,6],'interactions':'cascading','hazards':['FF','LS'],'weights':[1,0.5]}\n",
    "extensions={ left_slope:0.4,right_slope:0.6,min_rp=10,max_rp=1000}\n",
    "computeMulRisk(con, groupcombinations, extensions, riskid)"
   ]
  }
 ],
 "metadata": {
  "kernelspec": {
   "display_name": "Python",
   "language": "python",
   "name": "python3"
  },
  "language_info": {
   "codemirror_mode": {
    "name": "ipython",
    "version": 3
   },
   "file_extension": ".py",
   "mimetype": "text/x-python",
   "name": "python",
   "nbconvert_exporter": "python",
   "pygments_lexer": "ipython3",
   "version": "3.8.10"
  }
 },
 "nbformat": 4,
 "nbformat_minor": 5
}
